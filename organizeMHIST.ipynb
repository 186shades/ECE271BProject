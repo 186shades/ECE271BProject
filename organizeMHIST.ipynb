{
 "cells": [
  {
   "cell_type": "code",
   "execution_count": 1,
   "id": "60d6825e",
   "metadata": {},
   "outputs": [
    {
     "name": "stdout",
     "output_type": "stream",
     "text": [
      "Images have been organized into training and testing sets.\n"
     ]
    }
   ],
   "source": [
    "import os\n",
    "import shutil\n",
    "import pandas as pd\n",
    "\n",
    "csv_file_path = 'MHIST/annotations.csv'\n",
    "image_directory = 'MHIST/images'\n",
    "train_directory = 'MHIST/train'\n",
    "test_directory = 'MHIST/test'\n",
    "\n",
    "df = pd.read_csv(csv_file_path)\n",
    "os.makedirs(train_directory, exist_ok=True)\n",
    "os.makedirs(test_directory, exist_ok=True)\n",
    "\n",
    "def organize_images(row):\n",
    "    # Source path for the image\n",
    "    source_path = os.path.join(image_directory, row['Image Name'])\n",
    "    \n",
    "    # Determine the target directory\n",
    "    if row['Partition'] == 'train':\n",
    "        target_dir = os.path.join(train_directory, row['Majority Vote Label'])\n",
    "    else:  # 'test'\n",
    "        target_dir = os.path.join(test_directory, row['Majority Vote Label'])\n",
    "    \n",
    "    # Ensure the target directory exists\n",
    "    os.makedirs(target_dir, exist_ok=True)\n",
    "    \n",
    "    # Target path for the image\n",
    "    target_path = os.path.join(target_dir, row['Image Name'])\n",
    "    \n",
    "    # Copy the image\n",
    "    shutil.copy(source_path, target_path)\n",
    "\n",
    "# Apply the function to each row in the DataFrame\n",
    "df.apply(organize_images, axis=1)\n",
    "\n",
    "print(\"Images have been organized into training and testing sets.\")"
   ]
  }
 ],
 "metadata": {
  "kernelspec": {
   "display_name": "Python 3 (ipykernel)",
   "language": "python",
   "name": "python3"
  },
  "language_info": {
   "codemirror_mode": {
    "name": "ipython",
    "version": 3
   },
   "file_extension": ".py",
   "mimetype": "text/x-python",
   "name": "python",
   "nbconvert_exporter": "python",
   "pygments_lexer": "ipython3",
   "version": "3.9.5"
  }
 },
 "nbformat": 4,
 "nbformat_minor": 5
}
